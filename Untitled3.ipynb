{
  "nbformat": 4,
  "nbformat_minor": 0,
  "metadata": {
    "colab": {
      "provenance": []
    },
    "kernelspec": {
      "name": "python3",
      "display_name": "Python 3"
    },
    "language_info": {
      "name": "python"
    }
  },
  "cells": [
    {
      "cell_type": "code",
      "execution_count": null,
      "metadata": {
        "id": "HmsnUr4U5uNZ"
      },
      "outputs": [],
      "source": [
        "DAA Pertemuan 11"
      ]
    },
    {
      "cell_type": "code",
      "source": [
        "graph = { \"a\" : [\"b\",\"c\"],\n",
        "          \"b\" : [\"a\",\"d\"],\n",
        "          \"c\" : [\"a\",\"d\"],\n",
        "          \"d\" : [\"e\"],\n",
        "          \"e\" : [\"d\"]\n",
        "}\n",
        "print(graph)"
      ],
      "metadata": {
        "colab": {
          "base_uri": "https://localhost:8080/"
        },
        "id": "NlVdRlF85ysa",
        "outputId": "326300a3-a6eb-4880-ff64-480e37f6b549"
      },
      "execution_count": 1,
      "outputs": [
        {
          "output_type": "stream",
          "name": "stdout",
          "text": [
            "{'a': ['b', 'c'], 'b': ['a', 'd'], 'c': ['a', 'd'], 'd': ['e'], 'e': ['d']}\n"
          ]
        }
      ]
    },
    {
      "cell_type": "code",
      "source": [
        "graph = { \"r\" : [\"l\",\"o\"],\n",
        "          \"o\" : [\"r\",\"p\",\"m\"],\n",
        "          \"m\" : [\"o\",\"n\"],\n",
        "          \"n\" : [\"m\",\"p\"],\n",
        "          \"p\" : [\"n\",\"o\",\"l\"],\n",
        "          \"l\" : [\"p\",\"r\"]\n",
        "         }\n",
        "print(graph)"
      ],
      "metadata": {
        "colab": {
          "base_uri": "https://localhost:8080/"
        },
        "id": "SDi8KRtX8_kj",
        "outputId": "a5774e56-bf86-4e1a-82f6-bfa440fde8d6"
      },
      "execution_count": 2,
      "outputs": [
        {
          "output_type": "stream",
          "name": "stdout",
          "text": [
            "{'r': ['l', 'o'], 'o': ['r', 'p', 'm'], 'm': ['o', 'n'], 'n': ['m', 'p'], 'p': ['n', 'o', 'l'], 'l': ['p', 'r']}\n"
          ]
        }
      ]
    },
    {
      "cell_type": "code",
      "source": [
        "class graph:\n",
        "  def __init__(self,gdict=None):\n",
        "      if gdict is None:\n",
        "          gdict = []\n",
        "      self.gdict = gdict\n",
        "\n",
        "  def getVertices(self):\n",
        "      return list(self.gdict.keys())\n",
        "\n",
        "graph_elements = { \"a\" : [\"b\",\"c\"],\n",
        "                  \"b\" : [\"a\", \"d\"],\n",
        "                  \"c\" : [\"a\", \"d\"],\n",
        "                  \"d\" : [\"e\"],\n",
        "                  \"e\" : [\"d\"]\n",
        "                  }\n",
        "\n",
        "g = graph (graph_elements)\n",
        "print(g.getVertices())"
      ],
      "metadata": {
        "colab": {
          "base_uri": "https://localhost:8080/"
        },
        "id": "SmQmxvOu_ycJ",
        "outputId": "06f29dc9-6cc9-4872-e57a-c11739c3e642"
      },
      "execution_count": 11,
      "outputs": [
        {
          "output_type": "stream",
          "name": "stdout",
          "text": [
            "['a', 'b', 'c', 'd', 'e']\n"
          ]
        }
      ]
    },
    {
      "cell_type": "code",
      "source": [
        "graph_elements = { \"t\" :[\"u\",\"v\"],\n",
        "                   \"u\" :[\"t\",\"v\"],\n",
        "                   \"v\" :[\"t\",\"u\"]\n",
        "                  }\n",
        "\n",
        "g = graph (graph_elements)\n",
        "print(g.getVertices())"
      ],
      "metadata": {
        "colab": {
          "base_uri": "https://localhost:8080/"
        },
        "id": "t38oUl-8EYst",
        "outputId": "e2800d96-cd52-4571-f286-6deb7a4b644a"
      },
      "execution_count": 12,
      "outputs": [
        {
          "output_type": "stream",
          "name": "stdout",
          "text": [
            "['t', 'u', 'v']\n"
          ]
        }
      ]
    },
    {
      "cell_type": "code",
      "source": [
        "graph_elements = { \"r\" :[\"o\",\"m\"],\n",
        "                   \"o\" :[\"r\",\"m\"],\n",
        "                   \"m\" :[\"t\",\"r\"]\n",
        "                  }\n",
        "\n",
        "g = graph (graph_elements)\n",
        "print(g.getVertices())"
      ],
      "metadata": {
        "colab": {
          "base_uri": "https://localhost:8080/"
        },
        "id": "qKZIq50aFblJ",
        "outputId": "f5cbce05-1f39-4d49-c89e-89c00767e8d0"
      },
      "execution_count": 13,
      "outputs": [
        {
          "output_type": "stream",
          "name": "stdout",
          "text": [
            "['r', 'o', 'm']\n"
          ]
        }
      ]
    },
    {
      "cell_type": "code",
      "source": [
        "class graph:\n",
        "  def __init__(self,gdict=None):\n",
        "    if gdict is None:\n",
        "      gdict = {}\n",
        "    self.gdict = gdict\n",
        "\n",
        "  def getVertices(self):\n",
        "    return list(self.gdict.keys())\n",
        "\n",
        "  def addVertex(self, vrtx):\n",
        "    if vrtx not in self.gdict:\n",
        "      self.gdict[vrtx] = []\n",
        "\n",
        "graph_elements = { \"a\" : [\"b\",\"c\"],\n",
        "                  \"b\" : [\"a\", \"d\"],\n",
        "                  \"c\" : [\"a\", \"d\"],\n",
        "                  \"d\" : [\"e\"],\n",
        "                  \"e\" : [\"d\"]\n",
        "                  }\n",
        "\n",
        "g = graph(graph_elements)\n",
        "g.addVertex(\"f\")\n",
        "print(g.getVertices())"
      ],
      "metadata": {
        "colab": {
          "base_uri": "https://localhost:8080/"
        },
        "id": "eO66LerSFrzU",
        "outputId": "a70ef0df-82e8-4fd2-c871-1ba7069d7a8a"
      },
      "execution_count": 16,
      "outputs": [
        {
          "output_type": "stream",
          "name": "stdout",
          "text": [
            "['a', 'b', 'c', 'd', 'e', 'f']\n"
          ]
        }
      ]
    },
    {
      "cell_type": "code",
      "source": [
        "class graph:\n",
        "  def __init__(self,gdict=None):\n",
        "    if gdict is None:\n",
        "        gdict ={}\n",
        "    self.gdict = gdict\n",
        "\n",
        "  def edges(self):\n",
        "    return self.findedges()\n",
        "\n",
        "  def AddEdge(self, edge):\n",
        "    edge = set(edge)\n",
        "    (vrtx1, vrtx2) = tuple(edge)\n",
        "    if vrtx1 in self.gdict:\n",
        "      self.gdict[vrtx1].append(vrtx2)\n",
        "    else:\n",
        "      self.gdict[vrtx1] = [vrtx2]\n",
        "\n",
        "  def findedges(self):\n",
        "    edgename =[]\n",
        "    for vrtx in self.gdict:\n",
        "      for nxtvrtx in self.gdict[vrtx]:\n",
        "        if {nxtvrtx, vrtx} not in edgename:\n",
        "          edgename.append({vrtx, nxtvrtx})\n",
        "    return edgename\n",
        "\n",
        "\n",
        "graph_elements = { \"a\" : [\"b\",\"c\"],\n",
        "                \"b\" : [\"a\", \"d\"],\n",
        "                \"c\" : [\"a\", \"d\"],\n",
        "                \"d\" : [\"e\"],\n",
        "                \"e\" : [\"d\"]\n",
        "                }\n",
        "\n",
        "g = graph(graph_elements)\n",
        "g.AddEdge({'a','e'})\n",
        "g.AddEdge({'a','c'})\n",
        "print(g.edges())"
      ],
      "metadata": {
        "colab": {
          "base_uri": "https://localhost:8080/"
        },
        "id": "gkk_biPFMgbl",
        "outputId": "879e8fd9-4e34-480a-9a0d-e90c03ab9e51"
      },
      "execution_count": 20,
      "outputs": [
        {
          "output_type": "stream",
          "name": "stdout",
          "text": [
            "[{'a', 'b'}, {'a', 'c'}, {'a', 'e'}, {'b', 'd'}, {'d', 'c'}, {'e', 'd'}]\n"
          ]
        }
      ]
    }
  ]
}